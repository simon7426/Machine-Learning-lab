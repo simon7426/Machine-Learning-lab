{
 "cells": [
  {
   "cell_type": "code",
   "execution_count": 1,
   "metadata": {},
   "outputs": [],
   "source": [
    "import pandas as pd"
   ]
  },
  {
   "cell_type": "code",
   "execution_count": 35,
   "metadata": {},
   "outputs": [],
   "source": [
    "df1 = pd.read_csv('redwine.csv')\n",
    "df = df1.values"
   ]
  },
  {
   "cell_type": "code",
   "execution_count": 36,
   "metadata": {},
   "outputs": [],
   "source": [
    "X = df[:,0:11]"
   ]
  },
  {
   "cell_type": "code",
   "execution_count": 37,
   "metadata": {},
   "outputs": [
    {
     "name": "stdout",
     "output_type": "stream",
     "text": [
      "[5. 5. 5. ... 6. 5. 6.]\n"
     ]
    }
   ],
   "source": [
    "Y=df[:,11]\n",
    "print(Y)"
   ]
  },
  {
   "cell_type": "code",
   "execution_count": 38,
   "metadata": {},
   "outputs": [],
   "source": [
    "from sklearn.model_selection import train_test_split"
   ]
  },
  {
   "cell_type": "code",
   "execution_count": 112,
   "metadata": {},
   "outputs": [
    {
     "name": "stdout",
     "output_type": "stream",
     "text": [
      "(1119, 11)\n",
      "(480,)\n"
     ]
    }
   ],
   "source": [
    "X_train,X_test,Y_train,Y_test = train_test_split(X,Y,test_size=0.3,random_state=100)\n",
    "print(X_train.shape)\n",
    "print(Y_test.shape)"
   ]
  },
  {
   "cell_type": "code",
   "execution_count": 113,
   "metadata": {},
   "outputs": [],
   "source": [
    "from sklearn.neighbors import KNeighborsClassifier\n",
    "from sklearn.metrics import accuracy_score"
   ]
  },
  {
   "cell_type": "code",
   "execution_count": 138,
   "metadata": {},
   "outputs": [
    {
     "name": "stdout",
     "output_type": "stream",
     "text": [
      "for 5: accuracy = 51.46%\n"
     ]
    }
   ],
   "source": [
    "knn=KNeighborsClassifier(n_neighbors=5)\n",
    "knn.fit(X_train,Y_train)\n",
    "y_pred=knn.predict(X_test)\n",
    "print('for {0}: accuracy = {1:.2f}%'.format(5,accuracy_score(Y_test,y_pred)*100))"
   ]
  },
  {
   "cell_type": "code",
   "execution_count": 139,
   "metadata": {},
   "outputs": [],
   "source": [
    "import math"
   ]
  },
  {
   "cell_type": "code",
   "execution_count": 140,
   "metadata": {},
   "outputs": [],
   "source": [
    "def ss(val):\n",
    "    return val[0]\n",
    "for n1 in X_test:\n",
    "    lis=[]\n",
    "    index=0\n",
    "    for n2 in X_train:\n",
    "        dis=0\n",
    "        for i in range(0,11):\n",
    "            dis+=(n1[i]-n2[i])**2\n",
    "        dis=math.sqrt(dis)\n",
    "        #print(dis,index)\n",
    "        lis.append((dis,index))\n",
    "        index+=1\n",
    "    lis.sort(key=ss)\n",
    "def user_pred(k):\n",
    "    print(k)\n",
    "    use_pred=[]\n",
    "    for n1 in X_test:\n",
    "        cnt={}\n",
    "        for i in range(0,k):\n",
    "            #print(Y_train[lis[i][1]])\n",
    "            if(Y_train[lis[i][1]] in cnt):\n",
    "                cnt[Y_train[lis[i][1]]]+=1\n",
    "            else:\n",
    "                cnt[Y_train[lis[i][1]]]=1\n",
    "        mx=1\n",
    "        tmp=Y_train[lis[0][1]]\n",
    "        #print(len(cnt))\n",
    "        for key,value in cnt.items():\n",
    "            if(value>mx):\n",
    "                mx=value\n",
    "                tmp=key\n",
    "        use_pred.append(tmp)\n",
    "    return accuracy_score(Y_test,use_pred)*100"
   ]
  },
  {
   "cell_type": "code",
   "execution_count": 141,
   "metadata": {},
   "outputs": [
    {
     "name": "stdout",
     "output_type": "stream",
     "text": [
      "5\n",
      "42.5\n",
      "400\n"
     ]
    }
   ],
   "source": [
    "print(user_pred(5))\n",
    "print(len(use_pred))"
   ]
  },
  {
   "cell_type": "code",
   "execution_count": null,
   "metadata": {},
   "outputs": [],
   "source": []
  }
 ],
 "metadata": {
  "kernelspec": {
   "display_name": "Python 3",
   "language": "python",
   "name": "python3"
  },
  "language_info": {
   "codemirror_mode": {
    "name": "ipython",
    "version": 3
   },
   "file_extension": ".py",
   "mimetype": "text/x-python",
   "name": "python",
   "nbconvert_exporter": "python",
   "pygments_lexer": "ipython3",
   "version": "3.7.3"
  }
 },
 "nbformat": 4,
 "nbformat_minor": 2
}
