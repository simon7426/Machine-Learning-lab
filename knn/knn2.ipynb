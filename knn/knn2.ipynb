{
 "cells": [
  {
   "cell_type": "code",
   "execution_count": 1,
   "metadata": {},
   "outputs": [],
   "source": [
    "import pandas as pd"
   ]
  },
  {
   "cell_type": "code",
   "execution_count": 159,
   "metadata": {},
   "outputs": [
    {
     "name": "stdout",
     "output_type": "stream",
     "text": [
      "        RI     Na    Mg    Al     Si     K    Ca   Ba   Fe  Type\n",
      "0  1.52101  13.64  4.49  1.10  71.78  0.06  8.75  0.0  0.0     1\n",
      "1  1.51761  13.89  3.60  1.36  72.73  0.48  7.83  0.0  0.0     1\n",
      "2  1.51618  13.53  3.55  1.54  72.99  0.39  7.78  0.0  0.0     1\n",
      "3  1.51766  13.21  3.69  1.29  72.61  0.57  8.22  0.0  0.0     1\n",
      "4  1.51742  13.27  3.62  1.24  73.08  0.55  8.07  0.0  0.0     1\n"
     ]
    }
   ],
   "source": [
    "df1 = pd.read_csv('glass.csv')\n",
    "df = df1.values\n",
    "print(df1.head())"
   ]
  },
  {
   "cell_type": "code",
   "execution_count": 163,
   "metadata": {},
   "outputs": [],
   "source": [
    "X = df[:,0:9]"
   ]
  },
  {
   "cell_type": "code",
   "execution_count": 164,
   "metadata": {},
   "outputs": [
    {
     "name": "stdout",
     "output_type": "stream",
     "text": [
      "[1. 1. 1. 1. 1. 1. 1. 1. 1. 1. 1. 1. 1. 1. 1. 1. 1. 1. 1. 1. 1. 1. 1. 1.\n",
      " 1. 1. 1. 1. 1. 1. 1. 1. 1. 1. 1. 1. 1. 1. 1. 1. 1. 1. 1. 1. 1. 1. 1. 1.\n",
      " 1. 1. 1. 1. 1. 1. 1. 1. 1. 1. 1. 1. 1. 1. 1. 1. 1. 1. 1. 1. 1. 1. 2. 2.\n",
      " 2. 2. 2. 2. 2. 2. 2. 2. 2. 2. 2. 2. 2. 2. 2. 2. 2. 2. 2. 2. 2. 2. 2. 2.\n",
      " 2. 2. 2. 2. 2. 2. 2. 2. 2. 2. 2. 2. 2. 2. 2. 2. 2. 2. 2. 2. 2. 2. 2. 2.\n",
      " 2. 2. 2. 2. 2. 2. 2. 2. 2. 2. 2. 2. 2. 2. 2. 2. 2. 2. 2. 2. 2. 2. 2. 2.\n",
      " 2. 2. 3. 3. 3. 3. 3. 3. 3. 3. 3. 3. 3. 3. 3. 3. 3. 3. 3. 5. 5. 5. 5. 5.\n",
      " 5. 5. 5. 5. 5. 5. 5. 5. 6. 6. 6. 6. 6. 6. 6. 6. 6. 7. 7. 7. 7. 7. 7. 7.\n",
      " 7. 7. 7. 7. 7. 7. 7. 7. 7. 7. 7. 7. 7. 7. 7. 7. 7. 7. 7. 7. 7. 7.]\n"
     ]
    }
   ],
   "source": [
    "Y=df[:,9]\n",
    "print(Y)"
   ]
  },
  {
   "cell_type": "code",
   "execution_count": 165,
   "metadata": {},
   "outputs": [],
   "source": [
    "from sklearn.model_selection import train_test_split"
   ]
  },
  {
   "cell_type": "code",
   "execution_count": 166,
   "metadata": {},
   "outputs": [
    {
     "name": "stdout",
     "output_type": "stream",
     "text": [
      "(149, 9)\n",
      "(65,)\n"
     ]
    }
   ],
   "source": [
    "X_train,X_test,Y_train,Y_test = train_test_split(X,Y,test_size=0.3,random_state=100)\n",
    "print(X_train.shape)\n",
    "print(Y_test.shape)"
   ]
  },
  {
   "cell_type": "code",
   "execution_count": 167,
   "metadata": {},
   "outputs": [],
   "source": [
    "from sklearn.neighbors import KNeighborsClassifier\n",
    "from sklearn.metrics import accuracy_score"
   ]
  },
  {
   "cell_type": "code",
   "execution_count": 172,
   "metadata": {},
   "outputs": [
    {
     "name": "stdout",
     "output_type": "stream",
     "text": [
      "for 1: accuracy = 73.85%\n",
      "for 2: accuracy = 64.62%\n",
      "for 3: accuracy = 70.77%\n",
      "for 4: accuracy = 69.23%\n",
      "for 5: accuracy = 64.62%\n",
      "for 6: accuracy = 63.08%\n",
      "for 7: accuracy = 61.54%\n",
      "for 8: accuracy = 60.00%\n",
      "for 9: accuracy = 58.46%\n",
      "for 10: accuracy = 61.54%\n",
      "for 11: accuracy = 61.54%\n",
      "for 12: accuracy = 61.54%\n",
      "for 13: accuracy = 58.46%\n",
      "for 14: accuracy = 56.92%\n",
      "for 15: accuracy = 56.92%\n",
      "for 16: accuracy = 60.00%\n",
      "for 17: accuracy = 60.00%\n",
      "for 18: accuracy = 60.00%\n",
      "for 19: accuracy = 60.00%\n",
      "for 20: accuracy = 60.00%\n",
      "for 21: accuracy = 60.00%\n",
      "for 22: accuracy = 58.46%\n",
      "for 23: accuracy = 58.46%\n",
      "for 24: accuracy = 56.92%\n",
      "for 25: accuracy = 58.46%\n"
     ]
    }
   ],
   "source": [
    "for k in range(1,26):\n",
    "    knn=KNeighborsClassifier(n_neighbors=k)\n",
    "    knn.fit(X_train,Y_train)\n",
    "    y_pred=knn.predict(X_test)\n",
    "    print('for {0}: accuracy = {1:.2f}%'.format(k,accuracy_score(Y_test,y_pred)*100))"
   ]
  },
  {
   "cell_type": "code",
   "execution_count": 169,
   "metadata": {},
   "outputs": [],
   "source": [
    "import math"
   ]
  },
  {
   "cell_type": "code",
   "execution_count": 170,
   "metadata": {},
   "outputs": [],
   "source": [
    "def ss(val):\n",
    "    return val[0]\n",
    "def user_pred(k):\n",
    "    print(k)\n",
    "    use_pred=[]\n",
    "    for n1 in X_test:\n",
    "        lis=[]\n",
    "        index=0\n",
    "        for n2 in X_train:\n",
    "            dis=0\n",
    "            for i in range(0,8):\n",
    "                dis+=(n1[i]-n2[i])**2\n",
    "            dis=math.sqrt(dis)\n",
    "            #print(dis,index)\n",
    "            lis.append((dis,index))\n",
    "            index+=1\n",
    "        lis.sort(key=ss)\n",
    "        cnt={}\n",
    "        for i in range(0,k):\n",
    "            #print(Y_train[lis[i][1]])\n",
    "            if(Y_train[lis[i][1]] in cnt):\n",
    "                cnt[Y_train[lis[i][1]]]+=1\n",
    "            else:\n",
    "                cnt[Y_train[lis[i][1]]]=1\n",
    "        mx=1\n",
    "        tmp=Y_train[lis[0][1]]\n",
    "        #print(len(cnt))\n",
    "        for key,value in cnt.items():\n",
    "            if(value>mx):\n",
    "                mx=value\n",
    "                tmp=key\n",
    "        use_pred.append(tmp)\n",
    "    return accuracy_score(Y_test,use_pred)*100"
   ]
  },
  {
   "cell_type": "code",
   "execution_count": 171,
   "metadata": {},
   "outputs": [
    {
     "name": "stdout",
     "output_type": "stream",
     "text": [
      "5\n",
      "70.76923076923077\n"
     ]
    }
   ],
   "source": [
    "print(user_pred(5))"
   ]
  },
  {
   "cell_type": "code",
   "execution_count": null,
   "metadata": {},
   "outputs": [],
   "source": []
  }
 ],
 "metadata": {
  "kernelspec": {
   "display_name": "Python 3",
   "language": "python",
   "name": "python3"
  },
  "language_info": {
   "codemirror_mode": {
    "name": "ipython",
    "version": 3
   },
   "file_extension": ".py",
   "mimetype": "text/x-python",
   "name": "python",
   "nbconvert_exporter": "python",
   "pygments_lexer": "ipython3",
   "version": "3.7.3"
  }
 },
 "nbformat": 4,
 "nbformat_minor": 2
}
